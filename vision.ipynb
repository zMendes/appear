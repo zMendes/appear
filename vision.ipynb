{
 "cells": [
  {
   "cell_type": "code",
   "execution_count": 1,
   "id": "de4f95a5",
   "metadata": {},
   "outputs": [
    {
     "name": "stdout",
     "output_type": "stream",
     "text": [
      "Defaulting to user installation because normal site-packages is not writeable\n",
      "Requirement already satisfied: onnxruntime in /home/loe/.local/lib/python3.10/site-packages (1.12.1)\n",
      "Requirement already satisfied: onnx in /home/loe/.local/lib/python3.10/site-packages (1.12.0)\n",
      "Requirement already satisfied: pt2keras in /home/loe/.local/lib/python3.10/site-packages (0.0.2.2)\n",
      "Requirement already satisfied: flatbuffers in /home/loe/.local/lib/python3.10/site-packages (from onnxruntime) (22.9.24)\n",
      "Requirement already satisfied: sympy in /usr/lib/python3/dist-packages (from onnxruntime) (1.9)\n",
      "Requirement already satisfied: coloredlogs in /home/loe/.local/lib/python3.10/site-packages (from onnxruntime) (15.0.1)\n",
      "Requirement already satisfied: packaging in /home/loe/.local/lib/python3.10/site-packages (from onnxruntime) (21.3)\n",
      "Requirement already satisfied: protobuf in /usr/lib/python3/dist-packages (from onnxruntime) (3.12.4)\n",
      "Requirement already satisfied: numpy>=1.21.0 in /home/loe/.local/lib/python3.10/site-packages (from onnxruntime) (1.23.4)\n",
      "Requirement already satisfied: typing-extensions>=3.6.2.1 in /home/loe/.local/lib/python3.10/site-packages (from onnx) (4.4.0)\n",
      "Requirement already satisfied: humanfriendly>=9.1 in /home/loe/.local/lib/python3.10/site-packages (from coloredlogs->onnxruntime) (10.0)\n",
      "Requirement already satisfied: pyparsing!=3.0.5,>=2.0.2 in /usr/lib/python3/dist-packages (from packaging->onnxruntime) (2.4.7)\n"
     ]
    }
   ],
   "source": [
    "## Installations\n",
    "!pip3 install onnxruntime onnx pt2keras "
   ]
  },
  {
   "cell_type": "code",
   "execution_count": 4,
   "id": "4de1edb6",
   "metadata": {},
   "outputs": [],
   "source": [
    "import imutils\n",
    "import numpy as np\n",
    "import cv2\n",
    "from PIL import Image\n",
    "from IPython.display import display, Javascript"
   ]
  },
  {
   "cell_type": "code",
   "execution_count": 5,
   "id": "f53172a1",
   "metadata": {},
   "outputs": [
    {
     "name": "stdout",
     "output_type": "stream",
     "text": [
      "--2022-10-19 21:22:27--  https://raw.githubusercontent.com/opencv/opencv/master/samples/dnn/face_detector/deploy.prototxt\n",
      "Resolving raw.githubusercontent.com (raw.githubusercontent.com)... 185.199.109.133, 185.199.111.133, 185.199.110.133, ...\n",
      "Connecting to raw.githubusercontent.com (raw.githubusercontent.com)|185.199.109.133|:443... connected.\n",
      "HTTP request sent, awaiting response... 200 OK\n",
      "Length: 28104 (27K) [text/plain]\n",
      "Saving to: ‘deploy.prototxt’\n",
      "\n",
      "deploy.prototxt     100%[===================>]  27.45K  --.-KB/s    in 0.02s   \n",
      "\n",
      "Last-modified header missing -- time-stamps turned off.\n",
      "2022-10-19 21:22:28 (1.65 MB/s) - ‘deploy.prototxt’ saved [28104/28104]\n",
      "\n",
      "--2022-10-19 21:22:28--  https://raw.githubusercontent.com/opencv/opencv_3rdparty/dnn_samples_face_detector_20170830/res10_300x300_ssd_iter_140000.caffemodel\n",
      "Resolving raw.githubusercontent.com (raw.githubusercontent.com)... 185.199.111.133, 185.199.110.133, 185.199.108.133, ...\n",
      "Connecting to raw.githubusercontent.com (raw.githubusercontent.com)|185.199.111.133|:443... connected.\n",
      "HTTP request sent, awaiting response... 200 OK\n",
      "Length: 10666211 (10M) [application/octet-stream]\n",
      "Saving to: ‘res10_300x300_ssd_iter_140000.caffemodel’\n",
      "\n",
      "res10_300x300_ssd_i 100%[===================>]  10.17M  1.15MB/s    in 6.4s    \n",
      "\n",
      "Last-modified header missing -- time-stamps turned off.\n",
      "2022-10-19 21:22:35 (1.59 MB/s) - ‘res10_300x300_ssd_iter_140000.caffemodel’ saved [10666211/10666211]\n",
      "\n"
     ]
    }
   ],
   "source": [
    "!wget -N https://raw.githubusercontent.com/opencv/opencv/master/samples/dnn/face_detector/deploy.prototxt\n",
    "!wget -N https://raw.githubusercontent.com/opencv/opencv_3rdparty/dnn_samples_face_detector_20170830/res10_300x300_ssd_iter_140000.caffemodel"
   ]
  },
  {
   "cell_type": "code",
   "execution_count": 6,
   "id": "3cec9c84",
   "metadata": {},
   "outputs": [
    {
     "name": "stdout",
     "output_type": "stream",
     "text": [
      "[INFO] loading model...\n"
     ]
    }
   ],
   "source": [
    "print(\"[INFO] loading model...\")\n",
    "prototxt = 'deploy.prototxt'\n",
    "model = 'res10_300x300_ssd_iter_140000.caffemodel'\n",
    "net = cv2.dnn.readNetFromCaffe(prototxt, model)"
   ]
  },
  {
   "cell_type": "code",
   "execution_count": null,
   "id": "475d4ea2",
   "metadata": {},
   "outputs": [],
   "source": [
    "cap = cv2.VideoCapture(0)\n",
    "\n",
    "while True:\n",
    "    success, img = cap.read()\n",
    "    (h, w) = img.shape[:2]\n",
    "\n",
    "    #image = imutils.resize((np.reshape(np.frombuffer(b64decode(frame_js[\"img\"].split(',')[1])),np.uint8),(640,480)),width=400)\n",
    "    #print(frame_js[\"img\"].split(','))\n",
    "    #print(len(image))\n",
    "    #image = (np.frombuffer(b64decode(frame_js[\"img\"].split(',')[1]),np.uint8))\n",
    "    #print(len(image))\n",
    "    blob = cv2.dnn.blobFromImage(cv2.resize(img, (300, 300)), 1.0, (300, 300), (104.0, 177.0, 123.0))\n",
    "    net.setInput(blob)\n",
    "    detections = net.forward()\n",
    "    for i in range(0, detections.shape[2]):\n",
    "      # extract the confidence (i.e., probability) associated with the prediction\n",
    "      confidence = detections[0, 0, i, 2]\n",
    "\n",
    "      # filter out weak detections by ensuring the `confidence` is\n",
    "      # greater than the minimum confidence threshold\n",
    "      if confidence > 0.5:\n",
    "        # compute the (x, y)-coordinates of the bounding box for the object\n",
    "        box = detections[0, 0, i, 3:7] * np.array([w, h, w, h])\n",
    "        (startX, startY, endX, endY) = box.astype(\"int\")\n",
    "        # draw the bounding box of the face along with the associated probability\n",
    "        text = \"{:.2f}%\".format(confidence * 100)\n",
    "        y = startY - 10 if startY - 10 > 10 else startY + 10\n",
    "        img = img[startY:endY,startX:endX]\n",
    "        cv2.rectangle(img, (startX, startY), (endX, endY), (0, 0, 255), 2)\n",
    "        cv2.putText(img, text, (startX, y),\n",
    "        cv2.FONT_HERSHEY_SIMPLEX, 0.45, (0, 0, 255), 2)    \n",
    "    cv2.imshow('frame', img)\n",
    "    if cv2.waitKey(1) == ord('q'):\n",
    "        break\n",
    "cap.release()\n",
    "cv2.destroyAllWindows()"
   ]
  },
  {
   "cell_type": "code",
   "execution_count": null,
   "id": "fed1284b",
   "metadata": {},
   "outputs": [],
   "source": []
  }
 ],
 "metadata": {
  "kernelspec": {
   "display_name": "Python 3 (ipykernel)",
   "language": "python",
   "name": "python3"
  },
  "language_info": {
   "codemirror_mode": {
    "name": "ipython",
    "version": 3
   },
   "file_extension": ".py",
   "mimetype": "text/x-python",
   "name": "python",
   "nbconvert_exporter": "python",
   "pygments_lexer": "ipython3",
   "version": "3.10.6"
  }
 },
 "nbformat": 4,
 "nbformat_minor": 5
}
